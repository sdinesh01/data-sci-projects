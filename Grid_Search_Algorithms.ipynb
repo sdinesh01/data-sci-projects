{
  "nbformat": 4,
  "nbformat_minor": 0,
  "metadata": {
    "colab": {
      "provenance": []
    },
    "kernelspec": {
      "name": "python3",
      "display_name": "Python 3"
    },
    "language_info": {
      "name": "python"
    }
  },
  "cells": [
    {
      "cell_type": "markdown",
      "source": [
        "### Import packages"
      ],
      "metadata": {
        "id": "oGeZE4PFzbjk"
      }
    },
    {
      "cell_type": "code",
      "source": [
        "!pip install geneticalgorithm"
      ],
      "metadata": {
        "colab": {
          "base_uri": "https://localhost:8080/"
        },
        "id": "xta2ExwLxjhf",
        "outputId": "700922eb-7d8a-40da-83d6-b14dcbacf6cd"
      },
      "execution_count": null,
      "outputs": [
        {
          "output_type": "stream",
          "name": "stdout",
          "text": [
            "Looking in indexes: https://pypi.org/simple, https://us-python.pkg.dev/colab-wheels/public/simple/\n",
            "Requirement already satisfied: geneticalgorithm in /usr/local/lib/python3.7/dist-packages (1.0.2)\n",
            "Requirement already satisfied: numpy in /usr/local/lib/python3.7/dist-packages (from geneticalgorithm) (1.21.6)\n",
            "Requirement already satisfied: func-timeout in /usr/local/lib/python3.7/dist-packages (from geneticalgorithm) (4.3.5)\n"
          ]
        }
      ]
    },
    {
      "cell_type": "code",
      "source": [
        "!pip install pyswarms"
      ],
      "metadata": {
        "colab": {
          "base_uri": "https://localhost:8080/"
        },
        "id": "R_WMaobxxrNv",
        "outputId": "3bccddbc-73c5-4071-d26c-8e5112371454"
      },
      "execution_count": null,
      "outputs": [
        {
          "output_type": "stream",
          "name": "stdout",
          "text": [
            "Looking in indexes: https://pypi.org/simple, https://us-python.pkg.dev/colab-wheels/public/simple/\n",
            "Requirement already satisfied: pyswarms in /usr/local/lib/python3.7/dist-packages (1.3.0)\n",
            "Requirement already satisfied: matplotlib>=1.3.1 in /usr/local/lib/python3.7/dist-packages (from pyswarms) (3.2.2)\n",
            "Requirement already satisfied: numpy in /usr/local/lib/python3.7/dist-packages (from pyswarms) (1.21.6)\n",
            "Requirement already satisfied: tqdm in /usr/local/lib/python3.7/dist-packages (from pyswarms) (4.64.0)\n",
            "Requirement already satisfied: pyyaml in /usr/local/lib/python3.7/dist-packages (from pyswarms) (3.13)\n",
            "Requirement already satisfied: attrs in /usr/local/lib/python3.7/dist-packages (from pyswarms) (21.4.0)\n",
            "Requirement already satisfied: future in /usr/local/lib/python3.7/dist-packages (from pyswarms) (0.16.0)\n",
            "Requirement already satisfied: scipy in /usr/local/lib/python3.7/dist-packages (from pyswarms) (1.7.3)\n",
            "Requirement already satisfied: kiwisolver>=1.0.1 in /usr/local/lib/python3.7/dist-packages (from matplotlib>=1.3.1->pyswarms) (1.4.4)\n",
            "Requirement already satisfied: python-dateutil>=2.1 in /usr/local/lib/python3.7/dist-packages (from matplotlib>=1.3.1->pyswarms) (2.8.2)\n",
            "Requirement already satisfied: pyparsing!=2.0.4,!=2.1.2,!=2.1.6,>=2.0.1 in /usr/local/lib/python3.7/dist-packages (from matplotlib>=1.3.1->pyswarms) (3.0.9)\n",
            "Requirement already satisfied: cycler>=0.10 in /usr/local/lib/python3.7/dist-packages (from matplotlib>=1.3.1->pyswarms) (0.11.0)\n",
            "Requirement already satisfied: typing-extensions in /usr/local/lib/python3.7/dist-packages (from kiwisolver>=1.0.1->matplotlib>=1.3.1->pyswarms) (4.1.1)\n",
            "Requirement already satisfied: six>=1.5 in /usr/local/lib/python3.7/dist-packages (from python-dateutil>=2.1->matplotlib>=1.3.1->pyswarms) (1.15.0)\n"
          ]
        }
      ]
    },
    {
      "cell_type": "code",
      "execution_count": null,
      "metadata": {
        "id": "i28u93RIsnDO"
      },
      "outputs": [],
      "source": [
        "import pandas as pd\n",
        "import numpy as np\n",
        "import matplotlib.pyplot as plt\n",
        "\n",
        "from sklearn.preprocessing import StandardScaler\n",
        "from sklearn.model_selection import KFold\n",
        "\n",
        "from sklearn.svm import SVR\n",
        "from sklearn.linear_model import ElasticNet\n",
        "\n",
        "from geneticalgorithm import geneticalgorithm as ga\n",
        "import pyswarms as ps\n",
        "from scipy.optimize import dual_annealing\n",
        "\n",
        "from sklearn.metrics import mean_squared_error as MSE\n",
        "from sklearn.model_selection import cross_val_score"
      ]
    },
    {
      "cell_type": "code",
      "source": [
        "from google.colab import drive\n",
        "drive.mount('/content/drive')"
      ],
      "metadata": {
        "colab": {
          "base_uri": "https://localhost:8080/"
        },
        "id": "E_dUbrKtyEyw",
        "outputId": "4411b309-3072-4da7-8f13-e5f015011c7f"
      },
      "execution_count": null,
      "outputs": [
        {
          "output_type": "stream",
          "name": "stdout",
          "text": [
            "Drive already mounted at /content/drive; to attempt to forcibly remount, call drive.mount(\"/content/drive\", force_remount=True).\n"
          ]
        }
      ]
    },
    {
      "cell_type": "markdown",
      "source": [
        "# Project\n",
        "\n",
        "Apply three grid search algorithms (Genetic Algorithm, Particle Swarm Optimization, and Simulated Annealing) to determine the best choice of hyperparameters for Elastic Net and Support Vector Regressor methods. \n",
        "\n",
        "For Elastic Net, determine the best alpha and l1_ratio. For SVR, determine the best combination of epsilon and C values. The metric for decision is a 10-fold cross-validated MSE (external validation)."
      ],
      "metadata": {
        "id": "sNpDrVSHsuAH"
      }
    },
    {
      "cell_type": "markdown",
      "source": [
        "# Data preprocessing"
      ],
      "metadata": {
        "id": "VoN2nN0hxz43"
      }
    },
    {
      "cell_type": "code",
      "source": [
        "data = pd.read_csv('drive/My Drive/Colab Notebooks/DATA310/data/AirI.csv')\n",
        "data"
      ],
      "metadata": {
        "id": "eAqcVTmWyUoV",
        "colab": {
          "base_uri": "https://localhost:8080/",
          "height": 488
        },
        "outputId": "713c71f5-e7c8-4da6-97e6-b3ab783cdda8"
      },
      "execution_count": null,
      "outputs": [
        {
          "output_type": "execute_result",
          "data": {
            "text/plain": [
              "     3.4482  0.0013136   0.15747    0.6883   0.15292         0      0.1  \\\n",
              "0    3.3019   0.188490  0.553190  0.258290  0.000031  0.000000  0.00000   \n",
              "1    2.2894   0.052169  0.438520  0.494030  0.015282  0.000000  0.00000   \n",
              "2    2.6207   0.000000  0.000000  0.004213  0.109340  0.493440  0.39300   \n",
              "3    2.8439   0.000000  0.000000  0.019504  0.260470  0.549860  0.17016   \n",
              "4    2.6684   0.331420  0.518940  0.147120  0.000000  0.000000  0.00000   \n",
              "..      ...        ...       ...       ...       ...       ...      ...   \n",
              "105  2.4101   0.301000  0.021904  0.000415  0.000000  0.000000  0.00000   \n",
              "106  3.1072   0.000734  0.138890  0.688740  0.171630  0.000000  0.00000   \n",
              "107  2.4101   0.001095  0.151180  0.688720  0.159000  0.000000  0.00000   \n",
              "108  2.6207   0.117370  0.526200  0.354590  0.001831  0.000000  0.00000   \n",
              "109  2.7144   0.000000  0.020058  0.538580  0.436120  0.005236  0.00000   \n",
              "\n",
              "     0.096603  0.52135   0.38205  ...  -2.9459   0.21996  -0.69045   0.24044  \\\n",
              "0    0.039008  0.43211  0.527160  ... -0.22680 -0.428570   0.74992 -0.111920   \n",
              "1    0.000000  0.00000  0.394840  ...  1.15790  0.010118   0.73593  1.356000   \n",
              "2    0.000000  0.00000  0.578540  ... -0.69767  1.577800   0.54899 -0.780420   \n",
              "3    0.010568  0.30520  0.670460  ... -1.49170 -0.688640  -0.69924  0.360740   \n",
              "4    0.000000  0.00000  0.244070  ... -0.35923 -0.029500   0.54853  1.929200   \n",
              "..        ...      ...       ...  ...      ...       ...       ...       ...   \n",
              "105  0.000000  0.00000  0.051206  ... -1.56660 -1.097100   2.77450  0.679850   \n",
              "106  0.171260  0.54746  0.280340  ... -0.32440 -1.341500  -1.51650  0.870840   \n",
              "107  0.000000  0.00000  0.194760  ... -0.49572 -0.832130   0.52386  0.189400   \n",
              "108  0.039008  0.43211  0.527160  ... -0.87353  0.063740   0.20128  0.090828   \n",
              "109  0.000000  0.00000  0.578540  ...  0.69068  0.480600   1.87800 -1.188400   \n",
              "\n",
              "     -0.25864   1.3387   0.11482  -0.43046  0.82309    1.5435  \n",
              "0    1.583000  0.88565 -0.053227   0.67796 -1.72010 -0.550510  \n",
              "1    0.057821 -1.44140  1.581800   1.25420  1.02540 -1.018900  \n",
              "2    1.136700 -0.84240  0.993120  -0.44576 -0.78778 -1.490900  \n",
              "3   -0.685860 -0.76161 -0.354560   0.83093 -0.27100  0.388610  \n",
              "4    1.063400  1.82900  0.142320  -0.46403 -2.18420 -1.967500  \n",
              "..        ...      ...       ...       ...      ...       ...  \n",
              "105 -0.292200  0.13691 -0.439250  -1.56390  0.29082  0.023485  \n",
              "106  1.023700  0.26581  0.174520  -0.29601  1.13600  0.217580  \n",
              "107  1.115700 -0.14259 -0.481300  -1.58790 -0.23976  1.717000  \n",
              "108  0.338310 -1.23960 -1.197600  -0.35008  0.59517  0.803430  \n",
              "109  0.735140  0.88927  0.678760  -1.16430 -0.49661  0.503380  \n",
              "\n",
              "[110 rows x 512 columns]"
            ],
            "text/html": [
              "\n",
              "  <div id=\"df-b46201de-4a8e-473f-a7b7-80fcfd1614f4\">\n",
              "    <div class=\"colab-df-container\">\n",
              "      <div>\n",
              "<style scoped>\n",
              "    .dataframe tbody tr th:only-of-type {\n",
              "        vertical-align: middle;\n",
              "    }\n",
              "\n",
              "    .dataframe tbody tr th {\n",
              "        vertical-align: top;\n",
              "    }\n",
              "\n",
              "    .dataframe thead th {\n",
              "        text-align: right;\n",
              "    }\n",
              "</style>\n",
              "<table border=\"1\" class=\"dataframe\">\n",
              "  <thead>\n",
              "    <tr style=\"text-align: right;\">\n",
              "      <th></th>\n",
              "      <th>3.4482</th>\n",
              "      <th>0.0013136</th>\n",
              "      <th>0.15747</th>\n",
              "      <th>0.6883</th>\n",
              "      <th>0.15292</th>\n",
              "      <th>0</th>\n",
              "      <th>0.1</th>\n",
              "      <th>0.096603</th>\n",
              "      <th>0.52135</th>\n",
              "      <th>0.38205</th>\n",
              "      <th>...</th>\n",
              "      <th>-2.9459</th>\n",
              "      <th>0.21996</th>\n",
              "      <th>-0.69045</th>\n",
              "      <th>0.24044</th>\n",
              "      <th>-0.25864</th>\n",
              "      <th>1.3387</th>\n",
              "      <th>0.11482</th>\n",
              "      <th>-0.43046</th>\n",
              "      <th>0.82309</th>\n",
              "      <th>1.5435</th>\n",
              "    </tr>\n",
              "  </thead>\n",
              "  <tbody>\n",
              "    <tr>\n",
              "      <th>0</th>\n",
              "      <td>3.3019</td>\n",
              "      <td>0.188490</td>\n",
              "      <td>0.553190</td>\n",
              "      <td>0.258290</td>\n",
              "      <td>0.000031</td>\n",
              "      <td>0.000000</td>\n",
              "      <td>0.00000</td>\n",
              "      <td>0.039008</td>\n",
              "      <td>0.43211</td>\n",
              "      <td>0.527160</td>\n",
              "      <td>...</td>\n",
              "      <td>-0.22680</td>\n",
              "      <td>-0.428570</td>\n",
              "      <td>0.74992</td>\n",
              "      <td>-0.111920</td>\n",
              "      <td>1.583000</td>\n",
              "      <td>0.88565</td>\n",
              "      <td>-0.053227</td>\n",
              "      <td>0.67796</td>\n",
              "      <td>-1.72010</td>\n",
              "      <td>-0.550510</td>\n",
              "    </tr>\n",
              "    <tr>\n",
              "      <th>1</th>\n",
              "      <td>2.2894</td>\n",
              "      <td>0.052169</td>\n",
              "      <td>0.438520</td>\n",
              "      <td>0.494030</td>\n",
              "      <td>0.015282</td>\n",
              "      <td>0.000000</td>\n",
              "      <td>0.00000</td>\n",
              "      <td>0.000000</td>\n",
              "      <td>0.00000</td>\n",
              "      <td>0.394840</td>\n",
              "      <td>...</td>\n",
              "      <td>1.15790</td>\n",
              "      <td>0.010118</td>\n",
              "      <td>0.73593</td>\n",
              "      <td>1.356000</td>\n",
              "      <td>0.057821</td>\n",
              "      <td>-1.44140</td>\n",
              "      <td>1.581800</td>\n",
              "      <td>1.25420</td>\n",
              "      <td>1.02540</td>\n",
              "      <td>-1.018900</td>\n",
              "    </tr>\n",
              "    <tr>\n",
              "      <th>2</th>\n",
              "      <td>2.6207</td>\n",
              "      <td>0.000000</td>\n",
              "      <td>0.000000</td>\n",
              "      <td>0.004213</td>\n",
              "      <td>0.109340</td>\n",
              "      <td>0.493440</td>\n",
              "      <td>0.39300</td>\n",
              "      <td>0.000000</td>\n",
              "      <td>0.00000</td>\n",
              "      <td>0.578540</td>\n",
              "      <td>...</td>\n",
              "      <td>-0.69767</td>\n",
              "      <td>1.577800</td>\n",
              "      <td>0.54899</td>\n",
              "      <td>-0.780420</td>\n",
              "      <td>1.136700</td>\n",
              "      <td>-0.84240</td>\n",
              "      <td>0.993120</td>\n",
              "      <td>-0.44576</td>\n",
              "      <td>-0.78778</td>\n",
              "      <td>-1.490900</td>\n",
              "    </tr>\n",
              "    <tr>\n",
              "      <th>3</th>\n",
              "      <td>2.8439</td>\n",
              "      <td>0.000000</td>\n",
              "      <td>0.000000</td>\n",
              "      <td>0.019504</td>\n",
              "      <td>0.260470</td>\n",
              "      <td>0.549860</td>\n",
              "      <td>0.17016</td>\n",
              "      <td>0.010568</td>\n",
              "      <td>0.30520</td>\n",
              "      <td>0.670460</td>\n",
              "      <td>...</td>\n",
              "      <td>-1.49170</td>\n",
              "      <td>-0.688640</td>\n",
              "      <td>-0.69924</td>\n",
              "      <td>0.360740</td>\n",
              "      <td>-0.685860</td>\n",
              "      <td>-0.76161</td>\n",
              "      <td>-0.354560</td>\n",
              "      <td>0.83093</td>\n",
              "      <td>-0.27100</td>\n",
              "      <td>0.388610</td>\n",
              "    </tr>\n",
              "    <tr>\n",
              "      <th>4</th>\n",
              "      <td>2.6684</td>\n",
              "      <td>0.331420</td>\n",
              "      <td>0.518940</td>\n",
              "      <td>0.147120</td>\n",
              "      <td>0.000000</td>\n",
              "      <td>0.000000</td>\n",
              "      <td>0.00000</td>\n",
              "      <td>0.000000</td>\n",
              "      <td>0.00000</td>\n",
              "      <td>0.244070</td>\n",
              "      <td>...</td>\n",
              "      <td>-0.35923</td>\n",
              "      <td>-0.029500</td>\n",
              "      <td>0.54853</td>\n",
              "      <td>1.929200</td>\n",
              "      <td>1.063400</td>\n",
              "      <td>1.82900</td>\n",
              "      <td>0.142320</td>\n",
              "      <td>-0.46403</td>\n",
              "      <td>-2.18420</td>\n",
              "      <td>-1.967500</td>\n",
              "    </tr>\n",
              "    <tr>\n",
              "      <th>...</th>\n",
              "      <td>...</td>\n",
              "      <td>...</td>\n",
              "      <td>...</td>\n",
              "      <td>...</td>\n",
              "      <td>...</td>\n",
              "      <td>...</td>\n",
              "      <td>...</td>\n",
              "      <td>...</td>\n",
              "      <td>...</td>\n",
              "      <td>...</td>\n",
              "      <td>...</td>\n",
              "      <td>...</td>\n",
              "      <td>...</td>\n",
              "      <td>...</td>\n",
              "      <td>...</td>\n",
              "      <td>...</td>\n",
              "      <td>...</td>\n",
              "      <td>...</td>\n",
              "      <td>...</td>\n",
              "      <td>...</td>\n",
              "      <td>...</td>\n",
              "    </tr>\n",
              "    <tr>\n",
              "      <th>105</th>\n",
              "      <td>2.4101</td>\n",
              "      <td>0.301000</td>\n",
              "      <td>0.021904</td>\n",
              "      <td>0.000415</td>\n",
              "      <td>0.000000</td>\n",
              "      <td>0.000000</td>\n",
              "      <td>0.00000</td>\n",
              "      <td>0.000000</td>\n",
              "      <td>0.00000</td>\n",
              "      <td>0.051206</td>\n",
              "      <td>...</td>\n",
              "      <td>-1.56660</td>\n",
              "      <td>-1.097100</td>\n",
              "      <td>2.77450</td>\n",
              "      <td>0.679850</td>\n",
              "      <td>-0.292200</td>\n",
              "      <td>0.13691</td>\n",
              "      <td>-0.439250</td>\n",
              "      <td>-1.56390</td>\n",
              "      <td>0.29082</td>\n",
              "      <td>0.023485</td>\n",
              "    </tr>\n",
              "    <tr>\n",
              "      <th>106</th>\n",
              "      <td>3.1072</td>\n",
              "      <td>0.000734</td>\n",
              "      <td>0.138890</td>\n",
              "      <td>0.688740</td>\n",
              "      <td>0.171630</td>\n",
              "      <td>0.000000</td>\n",
              "      <td>0.00000</td>\n",
              "      <td>0.171260</td>\n",
              "      <td>0.54746</td>\n",
              "      <td>0.280340</td>\n",
              "      <td>...</td>\n",
              "      <td>-0.32440</td>\n",
              "      <td>-1.341500</td>\n",
              "      <td>-1.51650</td>\n",
              "      <td>0.870840</td>\n",
              "      <td>1.023700</td>\n",
              "      <td>0.26581</td>\n",
              "      <td>0.174520</td>\n",
              "      <td>-0.29601</td>\n",
              "      <td>1.13600</td>\n",
              "      <td>0.217580</td>\n",
              "    </tr>\n",
              "    <tr>\n",
              "      <th>107</th>\n",
              "      <td>2.4101</td>\n",
              "      <td>0.001095</td>\n",
              "      <td>0.151180</td>\n",
              "      <td>0.688720</td>\n",
              "      <td>0.159000</td>\n",
              "      <td>0.000000</td>\n",
              "      <td>0.00000</td>\n",
              "      <td>0.000000</td>\n",
              "      <td>0.00000</td>\n",
              "      <td>0.194760</td>\n",
              "      <td>...</td>\n",
              "      <td>-0.49572</td>\n",
              "      <td>-0.832130</td>\n",
              "      <td>0.52386</td>\n",
              "      <td>0.189400</td>\n",
              "      <td>1.115700</td>\n",
              "      <td>-0.14259</td>\n",
              "      <td>-0.481300</td>\n",
              "      <td>-1.58790</td>\n",
              "      <td>-0.23976</td>\n",
              "      <td>1.717000</td>\n",
              "    </tr>\n",
              "    <tr>\n",
              "      <th>108</th>\n",
              "      <td>2.6207</td>\n",
              "      <td>0.117370</td>\n",
              "      <td>0.526200</td>\n",
              "      <td>0.354590</td>\n",
              "      <td>0.001831</td>\n",
              "      <td>0.000000</td>\n",
              "      <td>0.00000</td>\n",
              "      <td>0.039008</td>\n",
              "      <td>0.43211</td>\n",
              "      <td>0.527160</td>\n",
              "      <td>...</td>\n",
              "      <td>-0.87353</td>\n",
              "      <td>0.063740</td>\n",
              "      <td>0.20128</td>\n",
              "      <td>0.090828</td>\n",
              "      <td>0.338310</td>\n",
              "      <td>-1.23960</td>\n",
              "      <td>-1.197600</td>\n",
              "      <td>-0.35008</td>\n",
              "      <td>0.59517</td>\n",
              "      <td>0.803430</td>\n",
              "    </tr>\n",
              "    <tr>\n",
              "      <th>109</th>\n",
              "      <td>2.7144</td>\n",
              "      <td>0.000000</td>\n",
              "      <td>0.020058</td>\n",
              "      <td>0.538580</td>\n",
              "      <td>0.436120</td>\n",
              "      <td>0.005236</td>\n",
              "      <td>0.00000</td>\n",
              "      <td>0.000000</td>\n",
              "      <td>0.00000</td>\n",
              "      <td>0.578540</td>\n",
              "      <td>...</td>\n",
              "      <td>0.69068</td>\n",
              "      <td>0.480600</td>\n",
              "      <td>1.87800</td>\n",
              "      <td>-1.188400</td>\n",
              "      <td>0.735140</td>\n",
              "      <td>0.88927</td>\n",
              "      <td>0.678760</td>\n",
              "      <td>-1.16430</td>\n",
              "      <td>-0.49661</td>\n",
              "      <td>0.503380</td>\n",
              "    </tr>\n",
              "  </tbody>\n",
              "</table>\n",
              "<p>110 rows × 512 columns</p>\n",
              "</div>\n",
              "      <button class=\"colab-df-convert\" onclick=\"convertToInteractive('df-b46201de-4a8e-473f-a7b7-80fcfd1614f4')\"\n",
              "              title=\"Convert this dataframe to an interactive table.\"\n",
              "              style=\"display:none;\">\n",
              "        \n",
              "  <svg xmlns=\"http://www.w3.org/2000/svg\" height=\"24px\"viewBox=\"0 0 24 24\"\n",
              "       width=\"24px\">\n",
              "    <path d=\"M0 0h24v24H0V0z\" fill=\"none\"/>\n",
              "    <path d=\"M18.56 5.44l.94 2.06.94-2.06 2.06-.94-2.06-.94-.94-2.06-.94 2.06-2.06.94zm-11 1L8.5 8.5l.94-2.06 2.06-.94-2.06-.94L8.5 2.5l-.94 2.06-2.06.94zm10 10l.94 2.06.94-2.06 2.06-.94-2.06-.94-.94-2.06-.94 2.06-2.06.94z\"/><path d=\"M17.41 7.96l-1.37-1.37c-.4-.4-.92-.59-1.43-.59-.52 0-1.04.2-1.43.59L10.3 9.45l-7.72 7.72c-.78.78-.78 2.05 0 2.83L4 21.41c.39.39.9.59 1.41.59.51 0 1.02-.2 1.41-.59l7.78-7.78 2.81-2.81c.8-.78.8-2.07 0-2.86zM5.41 20L4 18.59l7.72-7.72 1.47 1.35L5.41 20z\"/>\n",
              "  </svg>\n",
              "      </button>\n",
              "      \n",
              "  <style>\n",
              "    .colab-df-container {\n",
              "      display:flex;\n",
              "      flex-wrap:wrap;\n",
              "      gap: 12px;\n",
              "    }\n",
              "\n",
              "    .colab-df-convert {\n",
              "      background-color: #E8F0FE;\n",
              "      border: none;\n",
              "      border-radius: 50%;\n",
              "      cursor: pointer;\n",
              "      display: none;\n",
              "      fill: #1967D2;\n",
              "      height: 32px;\n",
              "      padding: 0 0 0 0;\n",
              "      width: 32px;\n",
              "    }\n",
              "\n",
              "    .colab-df-convert:hover {\n",
              "      background-color: #E2EBFA;\n",
              "      box-shadow: 0px 1px 2px rgba(60, 64, 67, 0.3), 0px 1px 3px 1px rgba(60, 64, 67, 0.15);\n",
              "      fill: #174EA6;\n",
              "    }\n",
              "\n",
              "    [theme=dark] .colab-df-convert {\n",
              "      background-color: #3B4455;\n",
              "      fill: #D2E3FC;\n",
              "    }\n",
              "\n",
              "    [theme=dark] .colab-df-convert:hover {\n",
              "      background-color: #434B5C;\n",
              "      box-shadow: 0px 1px 3px 1px rgba(0, 0, 0, 0.15);\n",
              "      filter: drop-shadow(0px 1px 2px rgba(0, 0, 0, 0.3));\n",
              "      fill: #FFFFFF;\n",
              "    }\n",
              "  </style>\n",
              "\n",
              "      <script>\n",
              "        const buttonEl =\n",
              "          document.querySelector('#df-b46201de-4a8e-473f-a7b7-80fcfd1614f4 button.colab-df-convert');\n",
              "        buttonEl.style.display =\n",
              "          google.colab.kernel.accessAllowed ? 'block' : 'none';\n",
              "\n",
              "        async function convertToInteractive(key) {\n",
              "          const element = document.querySelector('#df-b46201de-4a8e-473f-a7b7-80fcfd1614f4');\n",
              "          const dataTable =\n",
              "            await google.colab.kernel.invokeFunction('convertToInteractive',\n",
              "                                                     [key], {});\n",
              "          if (!dataTable) return;\n",
              "\n",
              "          const docLinkHtml = 'Like what you see? Visit the ' +\n",
              "            '<a target=\"_blank\" href=https://colab.research.google.com/notebooks/data_table.ipynb>data table notebook</a>'\n",
              "            + ' to learn more about interactive tables.';\n",
              "          element.innerHTML = '';\n",
              "          dataTable['output_type'] = 'display_data';\n",
              "          await google.colab.output.renderOutput(dataTable, element);\n",
              "          const docLink = document.createElement('div');\n",
              "          docLink.innerHTML = docLinkHtml;\n",
              "          element.appendChild(docLink);\n",
              "        }\n",
              "      </script>\n",
              "    </div>\n",
              "  </div>\n",
              "  "
            ]
          },
          "metadata": {},
          "execution_count": 5
        }
      ]
    },
    {
      "cell_type": "code",
      "source": [
        "X = data.iloc[:,1:].values\n",
        "y = data.iloc[:,0].values"
      ],
      "metadata": {
        "id": "FiQixeWxy_B6"
      },
      "execution_count": null,
      "outputs": []
    },
    {
      "cell_type": "code",
      "source": [
        "print(X.shape)\n",
        "print(y.shape)"
      ],
      "metadata": {
        "colab": {
          "base_uri": "https://localhost:8080/"
        },
        "id": "DT3alQIdzAHo",
        "outputId": "07e6c6b8-18fe-4ddf-ea8a-b6bf2e8ea51b"
      },
      "execution_count": null,
      "outputs": [
        {
          "output_type": "stream",
          "name": "stdout",
          "text": [
            "(110, 511)\n",
            "(110,)\n"
          ]
        }
      ]
    },
    {
      "cell_type": "markdown",
      "source": [
        "# Hyperparameters for Elastic Net\n",
        "\n",
        "Determine best combination of alpha and L1 ratio hyperparameters using grid search algorithms."
      ],
      "metadata": {
        "id": "lgHv4Cl0tEn8"
      }
    },
    {
      "cell_type": "markdown",
      "source": [
        "## Genetic Algorithm"
      ],
      "metadata": {
        "id": "S6yGSOcVtKB_"
      }
    },
    {
      "cell_type": "code",
      "source": [
        "def objective_ga(h): \n",
        "  a = h[0] #alpha\n",
        "  l = h[1] #L1 ratio\n",
        "  kf = KFold(n_splits=10, shuffle=True, random_state=123)\n",
        "  model = ElasticNet(alpha=a,l1_ratio=l,max_iter=5000)\n",
        "  scale = StandardScaler()\n",
        "  PE = []\n",
        "  # cross-validation\n",
        "  for idxtrain, idxtest in kf.split(X): \n",
        "    xtrain = X[idxtrain]\n",
        "    ytrain = y[idxtrain]\n",
        "    xtrain = scale.fit_transform(xtrain)\n",
        "    xtest = X[idxtest]\n",
        "    ytest = y[idxtest]\n",
        "    xtest = scale.transform(xtest)\n",
        "    model.fit(xtrain,ytrain)\n",
        "    PE.append(MSE(ytest,model.predict(xtest)))\n",
        "    PE.append(np.mean(PE))\n",
        "  return np.mean(PE)"
      ],
      "metadata": {
        "id": "VRzERcwL5LqS"
      },
      "execution_count": null,
      "outputs": []
    },
    {
      "cell_type": "code",
      "source": [
        "varbound=np.array([[0,3],[0,1]])\n",
        "model=ga(function=objective_ga,dimension=2,variable_type='real',variable_boundaries=varbound)\n",
        "model.run()"
      ],
      "metadata": {
        "colab": {
          "base_uri": "https://localhost:8080/",
          "height": 382
        },
        "id": "uf_iKfRS5jFv",
        "outputId": "673c667e-2a2e-4dfa-d314-5b023fd1b17b"
      },
      "execution_count": null,
      "outputs": [
        {
          "output_type": "stream",
          "name": "stdout",
          "text": [
            " The best solution found:\n",
            " [0.06845592 0.89554244]\n",
            "\n",
            " Objective function:\n",
            " 0.23802615248449346\n"
          ]
        },
        {
          "output_type": "display_data",
          "data": {
            "text/plain": [
              "<Figure size 432x288 with 1 Axes>"
            ],
            "image/png": "[encoded data removed]"
          },
          "metadata": {
            "needs_background": "light"
          }
        }
      ]
    },
    {
      "cell_type": "markdown",
      "source": [
        "With the genetic algorithm, the best alpha value is 0.0684 and the best L1 ratio is 0.8955 for Elastic Net regression."
      ],
      "metadata": {
        "id": "jNRCUyz5_ALa"
      }
    },
    {
      "cell_type": "markdown",
      "source": [
        "##Partical Swarm Optimization"
      ],
      "metadata": {
        "id": "x62gK-K0tKNu"
      }
    },
    {
      "cell_type": "code",
      "source": [
        "def objective_pso1(h):\n",
        "  scale = StandardScaler()\n",
        "  kf = KFold(n_splits=10, shuffle=True, random_state=123)\n",
        "  output = []\n",
        "  for i in range(h.shape[0]):\n",
        "    a = h[i,0]\n",
        "    l = h[i,1]\n",
        "    model = ElasticNet(alpha=a,l1_ratio=l,max_iter=5000)\n",
        "    PE = []\n",
        "    for idxtrain, idxtest in kf.split(X):\n",
        "      xtrain = X[idxtrain]\n",
        "      ytrain = y[idxtrain]\n",
        "      xtrain = scale.fit_transform(xtrain)\n",
        "      xtest = X[idxtest]\n",
        "      ytest = y[idxtest]\n",
        "      xtest = scale.transform(xtest)\n",
        "      model.fit(xtrain,ytrain)\n",
        "      PE.append(MSE(ytest,model.predict(xtest)))\n",
        "    output.append(np.mean(PE))\n",
        "  return output"
      ],
      "metadata": {
        "id": "o7tgweobzt4U"
      },
      "execution_count": null,
      "outputs": []
    },
    {
      "cell_type": "code",
      "source": [
        "max = np.array([3,1])\n",
        "min = np.array([0,0])\n",
        "bounds = (min, max)\n",
        "options = {'c1': 0.25, 'c2': 0.25, 'w': 0.5}\n",
        "optimizer = ps.single.GlobalBestPSO(n_particles=20, dimensions=2, options=options, bounds=bounds)\n",
        "cost, pos = optimizer.optimize(objective_pso1, iters=100)"
      ],
      "metadata": {
        "colab": {
          "base_uri": "https://localhost:8080/"
        },
        "id": "Ez48RAepp_5O",
        "outputId": "b566db9f-5c16-41e2-ecaa-9d51814221c5"
      },
      "execution_count": null,
      "outputs": [
        {
          "output_type": "stream",
          "name": "stderr",
          "text": [
            "2022-08-01 01:03:13,151 - pyswarms.single.global_best - INFO - Optimize for 100 iters with {'c1': 0.25, 'c2': 0.25, 'w': 0.5}\n",
            "pyswarms.single.global_best: 100%|██████████|100/100, best_cost=0.269\n",
            "2022-08-01 01:04:47,297 - pyswarms.single.global_best - INFO - Optimization finished | best cost: 0.2692349141516045, best pos: [0.34008191 0.16331241]\n"
          ]
        }
      ]
    },
    {
      "cell_type": "markdown",
      "source": [
        "With PSO, the best alpha value is 0.3401 and the best L1 ratio is 0.1633 for Elastic Net regression."
      ],
      "metadata": {
        "id": "-pzUYTZW_gz2"
      }
    },
    {
      "cell_type": "markdown",
      "source": [
        "## Simulated Annealing"
      ],
      "metadata": {
        "id": "o8q2rs00tKYa"
      }
    },
    {
      "cell_type": "code",
      "source": [
        "def objective_anneal(h): \n",
        "  scale = StandardScaler()\n",
        "  kf = KFold(n_splits=10, shuffle=True, random_state=123)\n",
        "  a = h[0] #alpha\n",
        "  l = h[1] #L1 ratio\n",
        "  model = ElasticNet(alpha=a,l1_ratio=l,max_iter=5000)\n",
        "  PE = []\n",
        "  # cross-validation\n",
        "  for idxtrain, idxtest in kf.split(X): \n",
        "    xtrain = X[idxtrain]\n",
        "    ytrain = y[idxtrain]\n",
        "    xtrain = scale.fit_transform(xtrain)\n",
        "    xtest = X[idxtest]\n",
        "    ytest = y[idxtest]\n",
        "    xtest = scale.transform(xtest)\n",
        "    model.fit(xtrain,ytrain)\n",
        "    PE.append(MSE(ytest,model.predict(xtest)))\n",
        "    PE.append(np.mean(PE))\n",
        "  return np.mean(PE)"
      ],
      "metadata": {
        "id": "ODZ4dY_1y-Ev"
      },
      "execution_count": null,
      "outputs": []
    },
    {
      "cell_type": "code",
      "source": [
        "lw = [0.0001,0.0001]\n",
        "up = [3,0.9999]\n",
        "ret = dual_annealing(objective_anneal, bounds=list(zip(lw, up)))"
      ],
      "metadata": {
        "id": "59S7U13Hs9jh"
      },
      "execution_count": null,
      "outputs": []
    },
    {
      "cell_type": "code",
      "source": [
        "ret.x"
      ],
      "metadata": {
        "colab": {
          "base_uri": "https://localhost:8080/"
        },
        "id": "K0IYWR3U-vk7",
        "outputId": "d5b5623c-35c6-49dd-bb37-597f8e3e6a00"
      },
      "execution_count": null,
      "outputs": [
        {
          "output_type": "execute_result",
          "data": {
            "text/plain": [
              "array([0.05919258, 0.9999    ])"
            ]
          },
          "metadata": {},
          "execution_count": 29
        }
      ]
    },
    {
      "cell_type": "code",
      "source": [
        "ret"
      ],
      "metadata": {
        "colab": {
          "base_uri": "https://localhost:8080/"
        },
        "id": "8Fx92rT8GuHd",
        "outputId": "ee51192b-087b-46e4-8c3d-ba9f2b4d8a55"
      },
      "execution_count": null,
      "outputs": [
        {
          "output_type": "execute_result",
          "data": {
            "text/plain": [
              "     fun: 0.23591662565127133\n",
              " message: ['Maximum number of iteration reached']\n",
              "    nfev: 4580\n",
              "    nhev: 0\n",
              "     nit: 1000\n",
              "    njev: 193\n",
              "  status: 0\n",
              " success: True\n",
              "       x: array([0.05919258, 0.9999    ])"
            ]
          },
          "metadata": {},
          "execution_count": 30
        }
      ]
    },
    {
      "cell_type": "markdown",
      "source": [
        "With simulated annealing, the best alpha value is 0.0592 and the best L1 ratio is 0.9999 for Elastic Net regression."
      ],
      "metadata": {
        "id": "mQ3Xx4O1_u-D"
      }
    },
    {
      "cell_type": "markdown",
      "source": [
        "# Hyperparameters for Support Vector Regression\n",
        "\n",
        "Determine best combination of $\\epsilon$ and $\\\\C$ hyperparameters using grid search algorithms."
      ],
      "metadata": {
        "id": "XHnflzlTtUY_"
      }
    },
    {
      "cell_type": "markdown",
      "source": [
        "##Genetic Algorithm"
      ],
      "metadata": {
        "id": "n7zZcb58tZNP"
      }
    },
    {
      "cell_type": "code",
      "source": [
        "def objective_ga1(h): \n",
        "  eps = h[0] #epsilon\n",
        "  c = h[1] #C\n",
        "  model = SVR(epsilon=eps,C=c,max_iter=5000)\n",
        "  kf = KFold(n_splits=10, shuffle=True, random_state=123)\n",
        "  scale = StandardScaler()\n",
        "  PE = []\n",
        "  # cross-validation\n",
        "  for idxtrain, idxtest in kf.split(X): \n",
        "    xtrain = X[idxtrain]\n",
        "    ytrain = y[idxtrain]\n",
        "    xtrain = scale.fit_transform(xtrain)\n",
        "    xtest = X[idxtest]\n",
        "    ytest = y[idxtest]\n",
        "    xtest = scale.transform(xtest)\n",
        "    model.fit(xtrain,ytrain)\n",
        "    PE.append(MSE(ytest,model.predict(xtest)))\n",
        "    PE.append(np.mean(PE))\n",
        "  return np.mean(PE)"
      ],
      "metadata": {
        "id": "QSyQUIYg5_fr"
      },
      "execution_count": null,
      "outputs": []
    },
    {
      "cell_type": "code",
      "source": [
        "\n",
        "varbound=np.array([[0,3],[0,1]])\n",
        "model=ga(function=objective_ga1,dimension=2,variable_type='real',variable_boundaries=varbound)\n",
        "model.run()"
      ],
      "metadata": {
        "colab": {
          "base_uri": "https://localhost:8080/",
          "height": 382
        },
        "id": "GmYl1fbk6PtD",
        "outputId": "445c9cb0-02f9-4a12-9f32-ed4bfbf9f810"
      },
      "execution_count": null,
      "outputs": [
        {
          "output_type": "stream",
          "name": "stdout",
          "text": [
            " The best solution found:\n",
            " [0.00502684 0.99914842]\n",
            "\n",
            " Objective function:\n",
            " 0.3670934434085454\n"
          ]
        },
        {
          "output_type": "display_data",
          "data": {
            "text/plain": [
              "<Figure size 432x288 with 1 Axes>"
            ],
            "image/png": "[encoded data removed]"
          },
          "metadata": {
            "needs_background": "light"
          }
        }
      ]
    },
    {
      "cell_type": "markdown",
      "source": [
        "With the genetic algorithm, the best epsilon value is 0.0050 and the best $C$ value is 0.9991 for support vector regression."
      ],
      "metadata": {
        "id": "5foG_pVMA8C1"
      }
    },
    {
      "cell_type": "markdown",
      "source": [
        "## Partical Swarm Optimization"
      ],
      "metadata": {
        "id": "OKFosWzwtZPu"
      }
    },
    {
      "cell_type": "code",
      "source": [
        "def objective_pso2(h):\n",
        "  scale = StandardScaler()\n",
        "  kf = KFold(n_splits=10, shuffle=True, random_state=123)\n",
        "  output = []\n",
        "  for i in range(h.shape[0]):\n",
        "    eps = h[i,0]\n",
        "    c = h[i,1]\n",
        "    model = SVR(epsilon=eps,C=c)\n",
        "    PE = []\n",
        "    for idxtrain, idxtest in kf.split(X):\n",
        "      xtrain = X[idxtrain]\n",
        "      ytrain = y[idxtrain]\n",
        "      xtrain = scale.fit_transform(xtrain)\n",
        "      xtest = X[idxtest]\n",
        "      ytest = y[idxtest]\n",
        "      xtest = scale.transform(xtest)\n",
        "      model.fit(xtrain,ytrain)\n",
        "      PE.append(MSE(ytest,model.predict(xtest)))\n",
        "    output.append(np.mean(PE))\n",
        "  return output"
      ],
      "metadata": {
        "id": "IONEY5cz2EEw"
      },
      "execution_count": null,
      "outputs": []
    },
    {
      "cell_type": "code",
      "source": [
        "max = np.array([3,4])\n",
        "min = np.array([0,0])\n",
        "bounds = (min, max)\n",
        "options = {'c1': 0.25, 'c2': 0.25, 'w': 0.5}\n",
        "optimizer = ps.single.GlobalBestPSO(n_particles=20, dimensions=2, options=options, bounds=bounds)\n",
        "cost, pos = optimizer.optimize(objective_pso2, iters=100)"
      ],
      "metadata": {
        "colab": {
          "base_uri": "https://localhost:8080/"
        },
        "id": "cCgEjLQL2lBx",
        "outputId": "299e43f0-ef52-45b9-840d-636e1a2a876e"
      },
      "execution_count": null,
      "outputs": [
        {
          "output_type": "stream",
          "name": "stderr",
          "text": [
            "2022-08-01 01:49:43,882 - pyswarms.single.global_best - INFO - Optimize for 100 iters with {'c1': 0.25, 'c2': 0.25, 'w': 0.5}\n",
            "pyswarms.single.global_best: 100%|██████████|100/100, best_cost=0.386\n",
            "2022-08-01 01:51:20,018 - pyswarms.single.global_best - INFO - Optimization finished | best cost: 0.3860710888207458, best pos: [0.03145757 3.07857203]\n"
          ]
        }
      ]
    },
    {
      "cell_type": "markdown",
      "source": [
        "With PSO, the best epsilon value is 0.0314 and the best $C$ value is 3.0785 for support vector regression."
      ],
      "metadata": {
        "id": "1ON9T_rqBe6C"
      }
    },
    {
      "cell_type": "markdown",
      "source": [
        "##Simulated Annealing"
      ],
      "metadata": {
        "id": "-X_YermbtZTO"
      }
    },
    {
      "cell_type": "code",
      "source": [
        "def objective_anneal2(h): \n",
        "  eps = h[0] #epsilon\n",
        "  c = h[1] #C\n",
        "  model = SVR(epsilon=eps,C=c,max_iter=5000)\n",
        "  kf = KFold(n_splits=10, shuffle=True, random_state=123)\n",
        "  scale = StandardScaler()\n",
        "  PE = []\n",
        "  # cross-validation\n",
        "  for idxtrain, idxtest in kf.split(X): \n",
        "    xtrain = X[idxtrain]\n",
        "    ytrain = y[idxtrain]\n",
        "    xtrain = scale.fit_transform(xtrain)\n",
        "    xtest = X[idxtest]\n",
        "    ytest = y[idxtest]\n",
        "    xtest = scale.transform(xtest)\n",
        "    model.fit(xtrain,ytrain)\n",
        "    PE.append(MSE(ytest,model.predict(xtest)))\n",
        "    PE.append(np.mean(PE))\n",
        "  return np.mean(PE)\n"
      ],
      "metadata": {
        "id": "CBIqONVktXzB"
      },
      "execution_count": null,
      "outputs": []
    },
    {
      "cell_type": "code",
      "source": [
        "lw = [0.0001,0.0001]\n",
        "up = [3,0.9999]\n",
        "ret = dual_annealing(objective_anneal2, bounds=list(zip(lw, up)))"
      ],
      "metadata": {
        "id": "kjTkZYcL-URZ"
      },
      "execution_count": null,
      "outputs": []
    },
    {
      "cell_type": "code",
      "source": [
        "ret"
      ],
      "metadata": {
        "id": "LXccbwUVB52n",
        "colab": {
          "base_uri": "https://localhost:8080/"
        },
        "outputId": "1953644a-53b8-451b-ee85-de04f2f54c85"
      },
      "execution_count": null,
      "outputs": [
        {
          "output_type": "execute_result",
          "data": {
            "text/plain": [
              "     fun: 0.3661943085454129\n",
              " message: ['Maximum number of iteration reached']\n",
              "    nfev: 4010\n",
              "    nhev: 0\n",
              "     nit: 1000\n",
              "    njev: 3\n",
              "  status: 0\n",
              " success: True\n",
              "       x: array([1.000e-04, 9.999e-01])"
            ]
          },
          "metadata": {},
          "execution_count": 22
        }
      ]
    },
    {
      "cell_type": "code",
      "source": [
        "ret.x"
      ],
      "metadata": {
        "colab": {
          "base_uri": "https://localhost:8080/"
        },
        "id": "VEPZHU3LFMeD",
        "outputId": "1475d701-7898-40a7-aa12-e9a7489c2626"
      },
      "execution_count": null,
      "outputs": [
        {
          "output_type": "execute_result",
          "data": {
            "text/plain": [
              "array([1.000e-04, 9.999e-01])"
            ]
          },
          "metadata": {},
          "execution_count": 21
        }
      ]
    },
    {
      "cell_type": "markdown",
      "source": [
        "With simulated annealing, the best epsilon value is 0.0001 and the best $C$ value is 0.9999 for support vector regression."
      ],
      "metadata": {
        "id": "yHWtQLEWBvfc"
      }
    }
  ]
}