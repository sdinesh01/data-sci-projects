{
 "cells": [
  {
   "cell_type": "code",
   "execution_count": 1,
   "id": "d4e277c9-f581-4f31-97dc-d27f2810ebd0",
   "metadata": {},
   "outputs": [],
   "source": [
    "import pandas as pd\n",
    "import numpy as np\n",
    "import matplotlib.pyplot as plt\n",
    "\n",
    "from datetime import datetime as dt\n",
    "from IPython.display import clear_output\n",
    "\n",
    "from sklearn.neighbors import KNeighborsClassifier as KNN\n",
    "\n",
    "from sklearn.linear_model import LogisticRegression as LR\n",
    "\n",
    "from sklearn.tree import DecisionTreeClassifier as DTC\n",
    "from sklearn.ensemble import RandomForestClassifier as RFC\n",
    "from sklearn import tree # For visualizing the trees\n",
    "\n",
    "# Because this is based on measuring distances between points...\n",
    "from sklearn.preprocessing import StandardScaler as SS\n",
    "from sklearn.model_selection import train_test_split as tts\n",
    "\n",
    "# To visualize results for higher dimensional data\n",
    "from sklearn.decomposition import PCA\n",
    "from sklearn.manifold import TSNE\n",
    "\n",
    "# data\n",
    "from sklearn.datasets import load_wine as lw\n"
   ]
  },
  {
   "cell_type": "code",
   "execution_count": 2,
   "id": "92d7aada-5351-4e92-ab9a-3193f3761a53",
   "metadata": {},
   "outputs": [],
   "source": [
    "def DoKFold(model,X,y,k,scaler=None,random_state=146):\n",
    "    from sklearn.model_selection import KFold\n",
    "    import pandas as pd\n",
    "    kf = KFold(n_splits=k, shuffle=True, random_state=random_state)\n",
    "    # As we're doing the k fold validation, we'll keep track of training and testing scores\n",
    "    train=[]\n",
    "    test=[]\n",
    "    # Make sure X is an array\n",
    "    if type(X) == pd.core.frame.DataFrame:\n",
    "        X = X.values\n",
    "    for idxTrain,idxTest in kf.split(X):\n",
    "        Xtrain = X[idxTrain,:]\n",
    "        Xtest = X[idxTest,:]\n",
    "        ytrain = y[idxTrain]\n",
    "        ytest = y[idxTest]\n",
    "        # If we want to rescale the data in any way, that should happen now:\n",
    "        if scaler is not None:\n",
    "            Xtrain = scaler.fit_transform(Xtrain)\n",
    "            Xtest = scaler.transform(Xtest)\n",
    "        # Now fit the model on the training data\n",
    "        model.fit(Xtrain,ytrain)\n",
    "        # Record the scores\n",
    "        train.append(model.score(Xtrain,ytrain))\n",
    "        test.append(model.score(Xtest,ytest))\n",
    "    return train, test\n",
    "\n",
    "def GetColors(N, cmap_name = 'rainbow'):\n",
    "    from matplotlib.cm import get_cmap\n",
    "    import numpy as np\n",
    "    \n",
    "    cmap = get_cmap(cmap_name)\n",
    "    n = np.linspace(0,1,N)\n",
    "    \n",
    "    return cmap(n)\n",
    "\n",
    "def PlotGroups(points, labels, colors):\n",
    "    \"\"\" Inputs: \n",
    "            points: The array of points to plot\n",
    "            labels: A list or array containing the label for each point\n",
    "            colors: An array of colors, 1 per unique value in 'labels'\n",
    "    \"\"\"\n",
    "    import matplotlib.pyplot as plt\n",
    "    \n",
    "    plt.figure(figsize = (6,6))\n",
    "    for i, yi in enumerate(np.unique(labels)):\n",
    "        idx = (labels == yi)\n",
    "        plt.scatter(points[idx,0], points[idx,1], \n",
    "                    color = colors[i], \n",
    "                    alpha=0.5,\n",
    "                    ec = 'k', \n",
    "                    label = yi)\n",
    "    plt.legend(bbox_to_anchor=[1,0.5], loc = 'center left')\n",
    "    \n",
    "    return\n",
    "\n",
    "def CompareClasses(actual, predicted, names=None):\n",
    "    classes = pd.DataFrame(columns=['Actual','Predicted'])\n",
    "    classes['Predicted'] = predicted\n",
    "    classes['Actual'] = actual\n",
    "    conf_mat = pd.crosstab(index=classes['Actual'],\n",
    "                           columns=classes['Predicted'])\n",
    "    \n",
    "    if names is not None: \n",
    "        conf_mat.columns = names\n",
    "        conf_mat.index = names\n",
    "    conf_mat.columns.name = 'Predicted'\n",
    "    conf_mat.index.name = 'Actual'\n",
    "    \n",
    "    accuracy = sum(predicted==actual)/len(actual) #sums boolean t/f \n",
    "    return conf_mat, accuracy"
   ]
  },
  {
   "cell_type": "markdown",
   "id": "e2104a03-6976-4be3-befb-b3638502b6dc",
   "metadata": {},
   "source": [
    "## load in data"
   ]
  },
  {
   "cell_type": "code",
   "execution_count": 3,
   "id": "7e9f9cea-d366-4a07-a208-f4f0e68a2c44",
   "metadata": {},
   "outputs": [],
   "source": [
    "X = lw().data\n",
    "y = lw().target\n",
    "y_names = lw().target_names"
   ]
  },
  {
   "cell_type": "markdown",
   "id": "c87f52df-2e21-43fa-9951-79aac15b9464",
   "metadata": {},
   "source": [
    "## set aside 10% of the data as a validation set"
   ]
  },
  {
   "cell_type": "code",
   "execution_count": 4,
   "id": "fad8fecf-9197-400d-9627-a8698d71b857",
   "metadata": {},
   "outputs": [],
   "source": [
    "X1, Xval, y1, yval = tts(X, y, shuffle=True, random_state=146, test_size=0.1)"
   ]
  },
  {
   "cell_type": "markdown",
   "id": "1fd1fe51-c467-4c8d-81f8-d9289bc20a21",
   "metadata": {},
   "source": [
    "## 1) Run logistic regression"
   ]
  },
  {
   "cell_type": "code",
   "execution_count": 5,
   "id": "639046cd-96af-45e1-800f-d08c9cb52434",
   "metadata": {},
   "outputs": [
    {
     "data": {
      "text/html": [
       "<style>#sk-container-id-1 {color: black;background-color: white;}#sk-container-id-1 pre{padding: 0;}#sk-container-id-1 div.sk-toggleable {background-color: white;}#sk-container-id-1 label.sk-toggleable__label {cursor: pointer;display: block;width: 100%;margin-bottom: 0;padding: 0.3em;box-sizing: border-box;text-align: center;}#sk-container-id-1 label.sk-toggleable__label-arrow:before {content: \"▸\";float: left;margin-right: 0.25em;color: #696969;}#sk-container-id-1 label.sk-toggleable__label-arrow:hover:before {color: black;}#sk-container-id-1 div.sk-estimator:hover label.sk-toggleable__label-arrow:before {color: black;}#sk-container-id-1 div.sk-toggleable__content {max-height: 0;max-width: 0;overflow: hidden;text-align: left;background-color: #f0f8ff;}#sk-container-id-1 div.sk-toggleable__content pre {margin: 0.2em;color: black;border-radius: 0.25em;background-color: #f0f8ff;}#sk-container-id-1 input.sk-toggleable__control:checked~div.sk-toggleable__content {max-height: 200px;max-width: 100%;overflow: auto;}#sk-container-id-1 input.sk-toggleable__control:checked~label.sk-toggleable__label-arrow:before {content: \"▾\";}#sk-container-id-1 div.sk-estimator input.sk-toggleable__control:checked~label.sk-toggleable__label {background-color: #d4ebff;}#sk-container-id-1 div.sk-label input.sk-toggleable__control:checked~label.sk-toggleable__label {background-color: #d4ebff;}#sk-container-id-1 input.sk-hidden--visually {border: 0;clip: rect(1px 1px 1px 1px);clip: rect(1px, 1px, 1px, 1px);height: 1px;margin: -1px;overflow: hidden;padding: 0;position: absolute;width: 1px;}#sk-container-id-1 div.sk-estimator {font-family: monospace;background-color: #f0f8ff;border: 1px dotted black;border-radius: 0.25em;box-sizing: border-box;margin-bottom: 0.5em;}#sk-container-id-1 div.sk-estimator:hover {background-color: #d4ebff;}#sk-container-id-1 div.sk-parallel-item::after {content: \"\";width: 100%;border-bottom: 1px solid gray;flex-grow: 1;}#sk-container-id-1 div.sk-label:hover label.sk-toggleable__label {background-color: #d4ebff;}#sk-container-id-1 div.sk-serial::before {content: \"\";position: absolute;border-left: 1px solid gray;box-sizing: border-box;top: 0;bottom: 0;left: 50%;z-index: 0;}#sk-container-id-1 div.sk-serial {display: flex;flex-direction: column;align-items: center;background-color: white;padding-right: 0.2em;padding-left: 0.2em;position: relative;}#sk-container-id-1 div.sk-item {position: relative;z-index: 1;}#sk-container-id-1 div.sk-parallel {display: flex;align-items: stretch;justify-content: center;background-color: white;position: relative;}#sk-container-id-1 div.sk-item::before, #sk-container-id-1 div.sk-parallel-item::before {content: \"\";position: absolute;border-left: 1px solid gray;box-sizing: border-box;top: 0;bottom: 0;left: 50%;z-index: -1;}#sk-container-id-1 div.sk-parallel-item {display: flex;flex-direction: column;z-index: 1;position: relative;background-color: white;}#sk-container-id-1 div.sk-parallel-item:first-child::after {align-self: flex-end;width: 50%;}#sk-container-id-1 div.sk-parallel-item:last-child::after {align-self: flex-start;width: 50%;}#sk-container-id-1 div.sk-parallel-item:only-child::after {width: 0;}#sk-container-id-1 div.sk-dashed-wrapped {border: 1px dashed gray;margin: 0 0.4em 0.5em 0.4em;box-sizing: border-box;padding-bottom: 0.4em;background-color: white;}#sk-container-id-1 div.sk-label label {font-family: monospace;font-weight: bold;display: inline-block;line-height: 1.2em;}#sk-container-id-1 div.sk-label-container {text-align: center;}#sk-container-id-1 div.sk-container {/* jupyter's `normalize.less` sets `[hidden] { display: none; }` but bootstrap.min.css set `[hidden] { display: none !important; }` so we also need the `!important` here to be able to override the default hidden behavior on the sphinx rendered scikit-learn.org. See: https://github.com/scikit-learn/scikit-learn/issues/21755 */display: inline-block !important;position: relative;}#sk-container-id-1 div.sk-text-repr-fallback {display: none;}</style><div id=\"sk-container-id-1\" class=\"sk-top-container\"><div class=\"sk-text-repr-fallback\"><pre>LogisticRegression(random_state=146)</pre><b>In a Jupyter environment, please rerun this cell to show the HTML representation or trust the notebook. <br />On GitHub, the HTML representation is unable to render, please try loading this page with nbviewer.org.</b></div><div class=\"sk-container\" hidden><div class=\"sk-item\"><div class=\"sk-estimator sk-toggleable\"><input class=\"sk-toggleable__control sk-hidden--visually\" id=\"sk-estimator-id-1\" type=\"checkbox\" checked><label for=\"sk-estimator-id-1\" class=\"sk-toggleable__label sk-toggleable__label-arrow\">LogisticRegression</label><div class=\"sk-toggleable__content\"><pre>LogisticRegression(random_state=146)</pre></div></div></div></div></div>"
      ],
      "text/plain": [
       "LogisticRegression(random_state=146)"
      ]
     },
     "execution_count": 5,
     "metadata": {},
     "output_type": "execute_result"
    }
   ],
   "source": [
    "# standardize data\n",
    "ss = SS()\n",
    "X1s = ss.fit_transform(X1)\n",
    "\n",
    "log_reg = LR(random_state=146)\n",
    "log_reg.fit(X1s, y1)"
   ]
  },
  {
   "cell_type": "code",
   "execution_count": 6,
   "id": "91682b88-a28f-48f6-bced-250e64bb6cdd",
   "metadata": {},
   "outputs": [
    {
     "data": {
      "text/plain": [
       "1.0"
      ]
     },
     "execution_count": 6,
     "metadata": {},
     "output_type": "execute_result"
    }
   ],
   "source": [
    "log_reg.score(X1s,y1)"
   ]
  },
  {
   "cell_type": "markdown",
   "id": "8d3c1fc4-6983-4993-a0e5-f2a77e8d2a58",
   "metadata": {},
   "source": [
    "## 2) K-Fold & test data accuracy"
   ]
  },
  {
   "cell_type": "code",
   "execution_count": 7,
   "id": "bdd450fe-61ad-4801-bc1b-8251a5cf8c9c",
   "metadata": {},
   "outputs": [],
   "source": [
    "k = 20\n",
    "train, test = DoKFold(LR(),X1,y1,k,SS())"
   ]
  },
  {
   "cell_type": "code",
   "execution_count": 8,
   "id": "b79ab84d-0262-40c0-ad6e-233bdd240b98",
   "metadata": {},
   "outputs": [
    {
     "data": {
      "text/plain": [
       "[1.0, 0.98125]"
      ]
     },
     "execution_count": 8,
     "metadata": {},
     "output_type": "execute_result"
    }
   ],
   "source": [
    "[np.mean(train), np.mean(test)]"
   ]
  },
  {
   "cell_type": "markdown",
   "id": "9c1609eb-0984-4cfc-b05b-d0da9aa397e3",
   "metadata": {},
   "source": [
    "## 3) K-nearest neighbors"
   ]
  },
  {
   "cell_type": "code",
   "execution_count": 84,
   "id": "3ad2c2e1-9881-4979-b3f0-17a588a1d231",
   "metadata": {},
   "outputs": [
    {
     "name": "stdout",
     "output_type": "stream",
     "text": [
      "Testing k= 11\n",
      "0:00:00.869697\n",
      "Done. 0:00:01.063164\n"
     ]
    }
   ],
   "source": [
    "# To find a suitable value for k, run a bunch of tests\n",
    "k_range = np.arange(1,12,2)\n",
    "\n",
    "# Choose k (for the k-fold)\n",
    "n_folds = 20\n",
    "\n",
    "# keep track of overall accuracy on training and testing sets\n",
    "train = []\n",
    "test = []\n",
    "\n",
    "tStart = dt.now()\n",
    "for k in k_range:\n",
    "    clear_output()\n",
    "    print('Testing k=',k)\n",
    "    print(dt.now()-tStart)\n",
    "    knn = KNN(n_neighbors=k)\n",
    "    tr,te = DoKFold(knn,X1,y1,n_folds,SS())\n",
    "    \n",
    "    train.append(np.mean(tr))\n",
    "    test.append(np.mean(te))\n",
    "print('Done.',dt.now()-tStart)"
   ]
  },
  {
   "cell_type": "code",
   "execution_count": 33,
   "id": "beb1ce2c-26d2-4ccc-b7a6-35101dfae19c",
   "metadata": {},
   "outputs": [
    {
     "data": {
      "image/png": "[encoded data removed]",
      "text/plain": [
       "<Figure size 864x288 with 1 Axes>"
      ]
     },
     "metadata": {
      "needs_background": "light"
     },
     "output_type": "display_data"
    }
   ],
   "source": [
    "plt.figure(figsize=(12,4))\n",
    "plt.plot(k_range,train,'-kx',label='Training')\n",
    "plt.plot(k_range,test,'-rx',label='Testing')\n",
    "plt.xlabel('k')\n",
    "plt.ylabel('Avg. accuracy')\n",
    "plt.legend()\n",
    "plt.show()"
   ]
  },
  {
   "cell_type": "code",
   "execution_count": 85,
   "id": "7787ab01-5296-4efe-8ab0-9dd52ecc2724",
   "metadata": {},
   "outputs": [
    {
     "data": {
      "text/plain": [
       "[0.9789473684210526, 0.975, 7]"
      ]
     },
     "execution_count": 85,
     "metadata": {},
     "output_type": "execute_result"
    }
   ],
   "source": [
    "idx_max = np.argmax(test)\n",
    "[train[idx_max],test[idx_max],k_range[idx_max]]"
   ]
  },
  {
   "cell_type": "code",
   "execution_count": 86,
   "id": "e02ed7f4-bf4b-462b-8476-48765a375ff4",
   "metadata": {},
   "outputs": [
    {
     "data": {
      "text/plain": [
       "[0.95625, 0.95625, 0.96875, 0.975, 0.975, 0.96875]"
      ]
     },
     "execution_count": 86,
     "metadata": {},
     "output_type": "execute_result"
    }
   ],
   "source": [
    "test"
   ]
  },
  {
   "cell_type": "code",
   "execution_count": 87,
   "id": "6e585c9d-1a2a-4761-af34-fe9f7991dd80",
   "metadata": {},
   "outputs": [
    {
     "data": {
      "text/plain": [
       "[1.0,\n",
       " 0.969407894736842,\n",
       " 0.9707236842105262,\n",
       " 0.9789473684210526,\n",
       " 0.976315789473684,\n",
       " 0.9773026315789473]"
      ]
     },
     "execution_count": 87,
     "metadata": {},
     "output_type": "execute_result"
    }
   ],
   "source": [
    "train"
   ]
  },
  {
   "cell_type": "markdown",
   "id": "844f178e-2dd6-4a6c-bce3-d9a6bfacb9d4",
   "metadata": {},
   "source": [
    "## 4) K-nearest neighbors (idw)"
   ]
  },
  {
   "cell_type": "code",
   "execution_count": 12,
   "id": "552ea2f4-fa46-4552-a694-38ed618dd6b3",
   "metadata": {},
   "outputs": [
    {
     "name": "stdout",
     "output_type": "stream",
     "text": [
      "Testing k= 11\n",
      "0:00:00.379492\n",
      "Done. 0:00:00.469782\n"
     ]
    }
   ],
   "source": [
    "# To find a suitable value for k, run a bunch of tests\n",
    "k_range = np.arange(1,12,2)\n",
    "\n",
    "# Choose k (for the k-fold)\n",
    "n_folds = 20\n",
    "\n",
    "# keep track of overall accuracy on training and testing sets\n",
    "train = []\n",
    "test = []\n",
    "\n",
    "tStart = dt.now()\n",
    "for k in k_range:\n",
    "    clear_output()\n",
    "    print('Testing k=',k)\n",
    "    print(dt.now()-tStart)\n",
    "    knn = KNN(n_neighbors=k, weights='distance')\n",
    "    tr,te = DoKFold(knn,X1,y1,n_folds,SS())\n",
    "    \n",
    "    train.append(np.mean(tr))\n",
    "    test.append(np.mean(te))\n",
    "print('Done.',dt.now()-tStart)"
   ]
  },
  {
   "cell_type": "code",
   "execution_count": 13,
   "id": "3a641337-2691-4013-b6c6-a95ced660675",
   "metadata": {},
   "outputs": [
    {
     "data": {
      "image/png": "[encoded data removed]",
      "text/plain": [
       "<Figure size 864x288 with 1 Axes>"
      ]
     },
     "metadata": {
      "needs_background": "light"
     },
     "output_type": "display_data"
    }
   ],
   "source": [
    "plt.figure(figsize=(12,4))\n",
    "plt.plot(k_range,train,'-kx',label='Training')\n",
    "plt.plot(k_range,test,'-rx',label='Testing')\n",
    "plt.xlabel('k')\n",
    "plt.ylabel('Avg. accuracy')\n",
    "plt.legend()\n",
    "plt.show()"
   ]
  },
  {
   "cell_type": "code",
   "execution_count": 14,
   "id": "b3a70ca0-f54e-471b-9f34-11a530cffedb",
   "metadata": {},
   "outputs": [
    {
     "data": {
      "text/plain": [
       "[1.0, 0.975, 9]"
      ]
     },
     "execution_count": 14,
     "metadata": {},
     "output_type": "execute_result"
    }
   ],
   "source": [
    "idx_max = np.argmax(test)\n",
    "[train[idx_max],test[idx_max],k_range[idx_max]]"
   ]
  },
  {
   "cell_type": "markdown",
   "id": "05384262-5f8a-4c5d-9086-aea044d8ba2b",
   "metadata": {},
   "source": [
    "## 5) Random forest"
   ]
  },
  {
   "cell_type": "markdown",
   "id": "81db7e10-6795-43f6-917c-fd733e3aebd8",
   "metadata": {},
   "source": [
    "### Max_depth=2"
   ]
  },
  {
   "cell_type": "code",
   "execution_count": 15,
   "id": "78636744-3222-4bf0-b677-de63965b1967",
   "metadata": {},
   "outputs": [
    {
     "name": "stdout",
     "output_type": "stream",
     "text": [
      "Testing n= 500\n",
      "0:00:29.292181\n",
      "Done. 0:01:11.723312\n"
     ]
    }
   ],
   "source": [
    "# Determine how many trees we should have in the random forest\n",
    "n_trees = [100,250,500]\n",
    "\n",
    "# Choose k for the KFold validation\n",
    "k = 20\n",
    "\n",
    "train = []\n",
    "test = []\n",
    "tStart = dt.now()\n",
    "for n in n_trees:\n",
    "    clear_output()\n",
    "    print('Testing n=',n)\n",
    "    print(dt.now()-tStart)\n",
    "    rfc = RFC(n_estimators=n,\n",
    "              max_depth=2,\n",
    "              max_features=None, \n",
    "              random_state=146)\n",
    "    tr,te = DoKFold(rfc,X1,y1,k,SS())\n",
    "    \n",
    "    train.append(np.mean(tr))\n",
    "    test.append(np.mean(te))\n",
    "print('Done.', dt.now()-tStart)"
   ]
  },
  {
   "cell_type": "code",
   "execution_count": 16,
   "id": "4242aa5a-ffc8-46f7-a5e1-bd154e82714c",
   "metadata": {},
   "outputs": [
    {
     "data": {
      "image/png": "[encoded data removed]",
      "text/plain": [
       "<Figure size 576x288 with 1 Axes>"
      ]
     },
     "metadata": {
      "needs_background": "light"
     },
     "output_type": "display_data"
    }
   ],
   "source": [
    "plt.figure(figsize=(8,4))\n",
    "plt.plot(n_trees, train, '-xk', label='Training')\n",
    "plt.plot(n_trees, test, '-xr', label='Testing')\n",
    "plt.xlabel('# of trees')\n",
    "plt.ylabel('Mean accuracy')\n",
    "plt.show()"
   ]
  },
  {
   "cell_type": "code",
   "execution_count": 17,
   "id": "c07a23bb-4c73-421e-a220-38cdafabe303",
   "metadata": {},
   "outputs": [
    {
     "data": {
      "text/plain": [
       "[0.9848684210526315, 0.93125, 100]"
      ]
     },
     "execution_count": 17,
     "metadata": {},
     "output_type": "execute_result"
    }
   ],
   "source": [
    "idx_max = np.argmax(test)\n",
    "[train[idx_max],test[idx_max],n_trees[idx_max]]"
   ]
  },
  {
   "cell_type": "markdown",
   "id": "56e8e5d9-8b11-4c65-99d3-af3af25b72ff",
   "metadata": {},
   "source": [
    "### Max_depth=3"
   ]
  },
  {
   "cell_type": "code",
   "execution_count": 18,
   "id": "62fb6f4b-e012-44a6-93bb-acfd8b16005e",
   "metadata": {},
   "outputs": [
    {
     "name": "stdout",
     "output_type": "stream",
     "text": [
      "Testing n= 500\n",
      "0:00:30.605861\n",
      "Done. 0:01:15.725870\n"
     ]
    }
   ],
   "source": [
    "# Determine how many trees we should have in the random forest\n",
    "n_trees = [100,250,500]\n",
    "\n",
    "# Choose k for the KFold validation\n",
    "k = 20\n",
    "\n",
    "train = []\n",
    "test = []\n",
    "tStart = dt.now()\n",
    "for n in n_trees:\n",
    "    clear_output()\n",
    "    print('Testing n=',n)\n",
    "    print(dt.now()-tStart)\n",
    "    rfc = RFC(n_estimators=n,\n",
    "              max_depth=3,\n",
    "              max_features=None, \n",
    "              random_state=146)\n",
    "    tr,te = DoKFold(rfc,X1,y1,k,SS())\n",
    "    \n",
    "    train.append(np.mean(tr))\n",
    "    test.append(np.mean(te))\n",
    "print('Done.', dt.now()-tStart)"
   ]
  },
  {
   "cell_type": "code",
   "execution_count": 19,
   "id": "29b74a92-b960-4de3-a670-0b5dd7a162e6",
   "metadata": {},
   "outputs": [
    {
     "data": {
      "image/png": "[encoded data removed]",
      "text/plain": [
       "<Figure size 576x288 with 1 Axes>"
      ]
     },
     "metadata": {
      "needs_background": "light"
     },
     "output_type": "display_data"
    }
   ],
   "source": [
    "plt.figure(figsize=(8,4))\n",
    "plt.plot(n_trees, train, '-xk', label='Training')\n",
    "plt.plot(n_trees, test, '-xr', label='Testing')\n",
    "plt.xlabel('# of trees')\n",
    "plt.ylabel('Mean accuracy')\n",
    "plt.show()"
   ]
  },
  {
   "cell_type": "code",
   "execution_count": 20,
   "id": "dcb4d2fb-0477-4318-9c8e-af0f34cce31d",
   "metadata": {},
   "outputs": [
    {
     "data": {
      "text/plain": [
       "[0.9940789473684211, 0.96875, 100]"
      ]
     },
     "execution_count": 20,
     "metadata": {},
     "output_type": "execute_result"
    }
   ],
   "source": [
    "idx_max = np.argmax(test)\n",
    "[train[idx_max],test[idx_max],n_trees[idx_max]]"
   ]
  },
  {
   "cell_type": "markdown",
   "id": "7944c085-fec2-47fa-864a-ee69ca1ffb2b",
   "metadata": {},
   "source": [
    "### max_depth=4"
   ]
  },
  {
   "cell_type": "code",
   "execution_count": 40,
   "id": "ed07341b-929a-4d63-8724-11dc2f77cce8",
   "metadata": {},
   "outputs": [
    {
     "name": "stdout",
     "output_type": "stream",
     "text": [
      "Testing n= 500\n",
      "0:00:31.254611\n",
      "Done. 0:01:15.435628\n"
     ]
    }
   ],
   "source": [
    "# Determine how many trees we should have in the random forest\n",
    "n_trees = [100,250,500]\n",
    "\n",
    "# Choose k for the KFold validation\n",
    "k = 20\n",
    "\n",
    "train = []\n",
    "test = []\n",
    "tStart = dt.now()\n",
    "for n in n_trees:\n",
    "    clear_output()\n",
    "    print('Testing n=',n)\n",
    "    print(dt.now()-tStart)\n",
    "    rfc = RFC(n_estimators=n,\n",
    "              max_depth=4,\n",
    "              max_features=None, \n",
    "              random_state=146)\n",
    "    tr,te = DoKFold(rfc,X1,y1,k,SS())\n",
    "    \n",
    "    train.append(np.mean(tr))\n",
    "    test.append(np.mean(te))\n",
    "print('Done.', dt.now()-tStart)"
   ]
  },
  {
   "cell_type": "code",
   "execution_count": 41,
   "id": "c09665c2-0d2f-47c5-8162-f72c876c8a7b",
   "metadata": {},
   "outputs": [
    {
     "data": {
      "image/png": "[encoded data removed]",
      "text/plain": [
       "<Figure size 576x288 with 1 Axes>"
      ]
     },
     "metadata": {
      "needs_background": "light"
     },
     "output_type": "display_data"
    }
   ],
   "source": [
    "plt.figure(figsize=(8,4))\n",
    "plt.plot(n_trees, train, '-xk', label='Training')\n",
    "plt.plot(n_trees, test, '-xr', label='Testing')\n",
    "plt.xlabel('# of trees')\n",
    "plt.ylabel('Mean accuracy')\n",
    "plt.show()"
   ]
  },
  {
   "cell_type": "code",
   "execution_count": 42,
   "id": "4ee4b706-ff45-419a-9646-0b25b7672aac",
   "metadata": {},
   "outputs": [
    {
     "data": {
      "text/plain": [
       "[0.999671052631579, 0.975, 100]"
      ]
     },
     "execution_count": 42,
     "metadata": {},
     "output_type": "execute_result"
    }
   ],
   "source": [
    "idx_max = np.argmax(test)\n",
    "[train[idx_max],test[idx_max],n_trees[idx_max]]"
   ]
  },
  {
   "cell_type": "code",
   "execution_count": 43,
   "id": "0aec9a82-94e4-4cf8-b064-e300c7a28e91",
   "metadata": {},
   "outputs": [
    {
     "data": {
      "text/plain": [
       "[0.999671052631579, 0.9980263157894737, 0.9983552631578947]"
      ]
     },
     "execution_count": 43,
     "metadata": {},
     "output_type": "execute_result"
    }
   ],
   "source": [
    "train"
   ]
  },
  {
   "cell_type": "code",
   "execution_count": 44,
   "id": "1f346932-23e2-4c1e-a6b3-296a325e3a83",
   "metadata": {},
   "outputs": [
    {
     "data": {
      "text/plain": [
       "[0.975, 0.975, 0.975]"
      ]
     },
     "execution_count": 44,
     "metadata": {},
     "output_type": "execute_result"
    }
   ],
   "source": [
    "test"
   ]
  },
  {
   "cell_type": "markdown",
   "id": "81ea9fc0-180f-45bc-8f18-8c0f304dd409",
   "metadata": {},
   "source": [
    "### max_depth=5"
   ]
  },
  {
   "cell_type": "code",
   "execution_count": 24,
   "id": "d6dddac7-02a6-4ab6-b25a-b849822f55cc",
   "metadata": {},
   "outputs": [
    {
     "name": "stdout",
     "output_type": "stream",
     "text": [
      "Testing n= 500\n",
      "0:00:31.480388\n",
      "Done. 0:01:15.682957\n"
     ]
    }
   ],
   "source": [
    "# Determine how many trees we should have in the random forest\n",
    "n_trees = [100,250,500]\n",
    "\n",
    "# Choose k for the KFold validation\n",
    "k = 20\n",
    "\n",
    "train = []\n",
    "test = []\n",
    "tStart = dt.now()\n",
    "for n in n_trees:\n",
    "    clear_output()\n",
    "    print('Testing n=',n)\n",
    "    print(dt.now()-tStart)\n",
    "    rfc = RFC(n_estimators=n,\n",
    "              max_depth=5,\n",
    "              max_features=None, \n",
    "              random_state=146)\n",
    "    tr,te = DoKFold(rfc,X1,y1,k,SS())\n",
    "    \n",
    "    train.append(np.mean(tr))\n",
    "    test.append(np.mean(te))\n",
    "print('Done.', dt.now()-tStart)"
   ]
  },
  {
   "cell_type": "code",
   "execution_count": 25,
   "id": "7e188230-9c1e-4abd-ac98-7bf815dd9e49",
   "metadata": {},
   "outputs": [
    {
     "data": {
      "image/png": "[encoded data removed]",
      "text/plain": [
       "<Figure size 576x288 with 1 Axes>"
      ]
     },
     "metadata": {
      "needs_background": "light"
     },
     "output_type": "display_data"
    }
   ],
   "source": [
    "plt.figure(figsize=(8,4))\n",
    "plt.plot(n_trees, train, '-xk', label='Training')\n",
    "plt.plot(n_trees, test, '-xr', label='Testing')\n",
    "plt.xlabel('# of trees')\n",
    "plt.ylabel('Mean accuracy')\n",
    "plt.show()"
   ]
  },
  {
   "cell_type": "code",
   "execution_count": 26,
   "id": "4faaa2a7-59e9-47dc-b7d4-82a7c0b63fa6",
   "metadata": {},
   "outputs": [
    {
     "data": {
      "text/plain": [
       "[1.0, 0.975, 100]"
      ]
     },
     "execution_count": 26,
     "metadata": {},
     "output_type": "execute_result"
    }
   ],
   "source": [
    "idx_max = np.argmax(test)\n",
    "[train[idx_max],test[idx_max],n_trees[idx_max]]"
   ]
  },
  {
   "cell_type": "code",
   "execution_count": 76,
   "id": "fb1ca31c-c8be-43cb-ab5c-bac1849eb71e",
   "metadata": {},
   "outputs": [
    {
     "name": "stdout",
     "output_type": "stream",
     "text": [
      "Testing n= 500\n",
      "0:01:42.856553\n",
      "Done. 0:04:08.080793\n"
     ]
    }
   ],
   "source": [
    "# Determine how many trees we should have in the random forest\n",
    "n_trees = [100,250,500]\n",
    "\n",
    "# Choose k for the KFold validation\n",
    "k = 20\n",
    "depths = [2,3,4,5]\n",
    "train = []\n",
    "test = []\n",
    "tStart = dt.now()\n",
    "for n in n_trees:\n",
    "    clear_output()\n",
    "    print('Testing n=',n)\n",
    "    print(dt.now()-tStart)\n",
    "    for d in depths: \n",
    "        rfc = RFC(n_estimators=n,\n",
    "                  max_depth=d, \n",
    "                  random_state=146)\n",
    "        tr,te = DoKFold(rfc,X1,y1,k,SS())\n",
    "    \n",
    "        train.append(np.mean(tr))\n",
    "        test.append(np.mean(te))\n",
    "print('Done.', dt.now()-tStart)"
   ]
  },
  {
   "cell_type": "code",
   "execution_count": 77,
   "id": "980ab086-50c6-4e5c-b30d-dbfc25144093",
   "metadata": {},
   "outputs": [
    {
     "data": {
      "text/plain": [
       "[0.975,\n",
       " 0.96875,\n",
       " 0.975,\n",
       " 0.975,\n",
       " 0.975,\n",
       " 0.975,\n",
       " 0.975,\n",
       " 0.975,\n",
       " 0.975,\n",
       " 0.975,\n",
       " 0.975,\n",
       " 0.975]"
      ]
     },
     "execution_count": 77,
     "metadata": {},
     "output_type": "execute_result"
    }
   ],
   "source": [
    "test"
   ]
  },
  {
   "cell_type": "code",
   "execution_count": 78,
   "id": "a6145e6e-cac9-40c5-8e78-a689e29e5dff",
   "metadata": {},
   "outputs": [
    {
     "data": {
      "text/plain": [
       "[0.9828947368421052,\n",
       " 0.9986842105263157,\n",
       " 1.0,\n",
       " 1.0,\n",
       " 0.9828947368421052,\n",
       " 1.0,\n",
       " 1.0,\n",
       " 1.0,\n",
       " 0.9819078947368419,\n",
       " 0.999671052631579,\n",
       " 1.0,\n",
       " 1.0]"
      ]
     },
     "execution_count": 78,
     "metadata": {},
     "output_type": "execute_result"
    }
   ],
   "source": [
    "train"
   ]
  },
  {
   "cell_type": "markdown",
   "id": "5a70946f-f304-4b41-9b45-8d63b0d34d8b",
   "metadata": {},
   "source": [
    "### random forest results:\n",
    "max_depth=2\n",
    "[0.9848684210526315, 0.93125, 100]\n",
    "\n",
    "max_depth=3\n",
    "[0.9940789473684211, 0.96875, 100]\n",
    "\n",
    "max_depth=4\n",
    "[0.999671052631579, 0.975, 100]\n",
    "\n",
    "max_depth=5\n",
    "[1.0, 0.975, 100]\n",
    "\n",
    "For all tested n_trees, 100 trees yielded the most accurate results. Choosing model with max_depth=4 because it has the most accurate test scores while not being as overfit and a simpler model than max_depth=5. Max_depth=3 is even less overfit and is closer to max_depth=4's accuracy results, but if choosing purely based on highest test accuracy, go with 4. "
   ]
  },
  {
   "cell_type": "markdown",
   "id": "5b1b4b31-6ad8-48f2-848a-d7af68c9b46c",
   "metadata": {},
   "source": [
    "## 7) Compare results from logistic regression, best KNN model, and best random forest"
   ]
  },
  {
   "cell_type": "markdown",
   "id": "cf8a35dd-0899-4798-bd9d-b67cbae1067b",
   "metadata": {},
   "source": [
    "logistic regression: [1.0, 0.98125]\n",
    "\n",
    "KNN(uniform weight): [0.9789473684210526, 0.975, 7]\n",
    "\n",
    "random forest: [0.999671052631579, 0.975, 100]\n",
    "\n",
    "**KNN and random forest** yielded identical test accuracy scores. **Logistic regression** had the highest avg. test accuracy score, but appears to be overfit."
   ]
  },
  {
   "cell_type": "markdown",
   "id": "0b85973e-d82c-4e0c-baec-3bb0ec796a33",
   "metadata": {
    "tags": []
   },
   "source": [
    "# 8) Testing all models on the validation data set\n"
   ]
  },
  {
   "cell_type": "code",
   "execution_count": 27,
   "id": "b5615af4-222a-4015-931a-53f6aa32c40e",
   "metadata": {},
   "outputs": [],
   "source": [
    "ss = SS()\n",
    "X1s = ss.fit_transform(X1)\n",
    "Xval_s = ss.transform(Xval)"
   ]
  },
  {
   "cell_type": "markdown",
   "id": "4f15122c-7faf-4843-86e9-62656bc734fd",
   "metadata": {},
   "source": [
    "## Logistic regression"
   ]
  },
  {
   "cell_type": "code",
   "execution_count": 28,
   "id": "bb9089c1-bc39-4a5a-a428-84c646ab10e5",
   "metadata": {},
   "outputs": [
    {
     "data": {
      "text/plain": [
       "1.0"
      ]
     },
     "execution_count": 28,
     "metadata": {},
     "output_type": "execute_result"
    }
   ],
   "source": [
    "log_reg.fit(X1s, y1)\n",
    "log_reg.score(Xval_s, yval)"
   ]
  },
  {
   "cell_type": "markdown",
   "id": "a9f1b8b6-bd5c-481b-959b-2be4aca986de",
   "metadata": {},
   "source": [
    "## KNN (uniform)"
   ]
  },
  {
   "cell_type": "code",
   "execution_count": 51,
   "id": "886ddc81-1876-47fd-9465-9833c2b9a98b",
   "metadata": {},
   "outputs": [
    {
     "data": {
      "text/plain": [
       "0.9444444444444444"
      ]
     },
     "execution_count": 51,
     "metadata": {},
     "output_type": "execute_result"
    }
   ],
   "source": [
    "knn = KNN(n_neighbors=9)\n",
    "knn.fit(X1s,y1)\n",
    "knn.score(Xval_s,yval)"
   ]
  },
  {
   "cell_type": "markdown",
   "id": "85393d13-71d2-4321-b72d-e4c4f700a153",
   "metadata": {},
   "source": [
    "## Random forest"
   ]
  },
  {
   "cell_type": "code",
   "execution_count": 80,
   "id": "4d6f03e8-2a57-4a8a-add5-3307b14da865",
   "metadata": {},
   "outputs": [
    {
     "name": "stdout",
     "output_type": "stream",
     "text": [
      "Testing n= 500\n",
      "0:00:31.762723\n",
      "Done. 0:01:16.338554\n"
     ]
    }
   ],
   "source": [
    "# Determine how many trees we should have in the random forest\n",
    "n_trees = [100,250,500]\n",
    "#n_trees = [500]\n",
    "# Choose k for the KFold validation\n",
    "k = 20\n",
    "depths = [2,3,4,5]\n",
    "train = []\n",
    "test = []\n",
    "tStart = dt.now()\n",
    "for n in n_trees:\n",
    "    clear_output()\n",
    "    print('Testing n=',n)\n",
    "    print(dt.now()-tStart)\n",
    "    for d in depths: \n",
    "        rfc = RFC(n_estimators=n,\n",
    "                  max_depth=d, \n",
    "                  random_state=146)\n",
    "        tr,te = DoKFold(rfc,X1,y1,k,SS())\n",
    "    \n",
    "        train.append(np.mean(tr))\n",
    "        test.append(np.mean(te))\n",
    "print('Done.', dt.now()-tStart)"
   ]
  },
  {
   "cell_type": "code",
   "execution_count": 81,
   "id": "4e0b3cef-3329-4587-bee7-de7354db274d",
   "metadata": {},
   "outputs": [
    {
     "data": {
      "text/plain": [
       "[0.975,\n",
       " 0.96875,\n",
       " 0.975,\n",
       " 0.975,\n",
       " 0.975,\n",
       " 0.975,\n",
       " 0.975,\n",
       " 0.975,\n",
       " 0.975,\n",
       " 0.975,\n",
       " 0.975,\n",
       " 0.975]"
      ]
     },
     "execution_count": 81,
     "metadata": {},
     "output_type": "execute_result"
    }
   ],
   "source": [
    "test"
   ]
  },
  {
   "cell_type": "code",
   "execution_count": 82,
   "id": "97652197-b9bf-4022-9c5f-105d05afe66c",
   "metadata": {},
   "outputs": [
    {
     "data": {
      "text/plain": [
       "[0.9828947368421052,\n",
       " 0.9986842105263157,\n",
       " 1.0,\n",
       " 1.0,\n",
       " 0.9828947368421052,\n",
       " 1.0,\n",
       " 1.0,\n",
       " 1.0,\n",
       " 0.9819078947368419,\n",
       " 0.999671052631579,\n",
       " 1.0,\n",
       " 1.0]"
      ]
     },
     "execution_count": 82,
     "metadata": {},
     "output_type": "execute_result"
    }
   ],
   "source": [
    "train"
   ]
  },
  {
   "cell_type": "code",
   "execution_count": null,
   "id": "a8fd50f3-a433-4446-9d08-65cacf7193d9",
   "metadata": {},
   "outputs": [],
   "source": [
    "rfc = RFC(n_estimators=500, max_depth=2, random_state=146)\n",
    "rfc.fit(X1s,y1)\n",
    "rfc.score(Xval_s,yval)"
   ]
  },
  {
   "cell_type": "code",
   "execution_count": null,
   "id": "798f1ad4-f937-4df6-bed1-76279e6b2ff1",
   "metadata": {},
   "outputs": [],
   "source": []
  }
 ],
 "metadata": {
  "kernelspec": {
   "display_name": "Python 3 (ipykernel)",
   "language": "python",
   "name": "python3"
  },
  "language_info": {
   "codemirror_mode": {
    "name": "ipython",
    "version": 3
   },
   "file_extension": ".py",
   "mimetype": "text/x-python",
   "name": "python",
   "nbconvert_exporter": "python",
   "pygments_lexer": "ipython3",
   "version": "3.9.7"
  }
 },
 "nbformat": 4,
 "nbformat_minor": 5
}
